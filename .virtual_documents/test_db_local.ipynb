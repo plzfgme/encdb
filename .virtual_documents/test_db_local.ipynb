from encdb_local import *


db = EncDB_Local('config.yaml')


db.insert_one('students', {'name': 'gyt', 'age': 44, 'score': 612.5})


db.insert_one('students', {'name': 'zhang', 'age': 17, 'score': 745.7})


db.find('students', {'$or': [{'age': 44}, {'score': {'$gte': 666.6, '$lte': 777.7}}]}, projection={'age': 1})


db.find('students', {'name': 'zhang'})
