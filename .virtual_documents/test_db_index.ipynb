from db_index import *


client = DBIndexClient('test_client1.db', 'test_client2.db')


server = DBIndexServer('test_server.db', client.get_key_for_server())


tokens = client.gen_update_tokens('add', 'goods', b'x2d', 'price', 40.2)


server.update(tokens)


tokens = client.gen_update_tokens('add', 'goods', b'xxcv', 'price', 55.7)


server.update(tokens)


tokens = client.gen_search_range_tokens('goods', 'price', 33.9, 41.2)


server.search_tokens_union(tokens)


tokens = client.gen_search_range_tokens('goods', 'price', 46, 60)


server.search_tokens_union(tokens)


tokens = client.gen_search_range_tokens('goods', 'price', 10.99, 66.66)


server.search_tokens_union(tokens)
