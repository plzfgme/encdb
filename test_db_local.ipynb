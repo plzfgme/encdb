{
 "cells": [
  {
   "cell_type": "code",
   "execution_count": 1,
   "id": "4b0a91fd-9805-4be4-a012-9fa2b83acde8",
   "metadata": {},
   "outputs": [],
   "source": [
    "from encdb_local import *"
   ]
  },
  {
   "cell_type": "code",
   "execution_count": 2,
   "id": "6fb27c80-5f4e-49fc-9613-309e66fd7d08",
   "metadata": {},
   "outputs": [],
   "source": [
    "db = EncDB_Local('config.yaml')"
   ]
  },
  {
   "cell_type": "code",
   "execution_count": 3,
   "id": "918a9e1b",
   "metadata": {},
   "outputs": [],
   "source": [
    "db.insert_one('students', {'name': 'gyt', 'age': 44, 'score': 612})"
   ]
  },
  {
   "cell_type": "code",
   "execution_count": 4,
   "id": "f45170ba",
   "metadata": {},
   "outputs": [],
   "source": [
    "db.insert_one('students', {'name': 'zhang', 'age': 17, 'score': 700})"
   ]
  },
  {
   "cell_type": "code",
   "execution_count": 5,
   "id": "1b93c1ea",
   "metadata": {},
   "outputs": [
    {
     "data": {
      "text/plain": [
       "[{'name': 'gyt',\n",
       "  'age': 44,\n",
       "  'score': 612,\n",
       "  '_id': ObjectId('622dd9341713bfe9bd2d7755')}]"
      ]
     },
     "execution_count": 5,
     "metadata": {},
     "output_type": "execute_result"
    }
   ],
   "source": [
    "db.search_range('students', 'age', 30, 64)"
   ]
  },
  {
   "cell_type": "code",
   "execution_count": 6,
   "id": "5db53245",
   "metadata": {},
   "outputs": [
    {
     "data": {
      "text/plain": [
       "[{'name': 'zhang',\n",
       "  'age': 17,\n",
       "  'score': 700,\n",
       "  '_id': ObjectId('622dd9351713bfe9bd2d7756')}]"
      ]
     },
     "execution_count": 6,
     "metadata": {},
     "output_type": "execute_result"
    }
   ],
   "source": [
    "db.search_range('students', 'score', 650, 701)"
   ]
  },
  {
   "cell_type": "code",
   "execution_count": 11,
   "id": "fe5b03bb",
   "metadata": {},
   "outputs": [],
   "source": [
    "doc_to_del = db.search_equal('students', 'name', 'gyt')[0]"
   ]
  },
  {
   "cell_type": "code",
   "execution_count": 8,
   "id": "dc59ceca",
   "metadata": {},
   "outputs": [
    {
     "data": {
      "text/plain": [
       "[{'name': 'gyt',\n",
       "  'age': 44,\n",
       "  'score': 612,\n",
       "  '_id': ObjectId('622dd9341713bfe9bd2d7755')},\n",
       " {'name': 'zhang',\n",
       "  'age': 17,\n",
       "  'score': 700,\n",
       "  '_id': ObjectId('622dd9351713bfe9bd2d7756')}]"
      ]
     },
     "execution_count": 8,
     "metadata": {},
     "output_type": "execute_result"
    }
   ],
   "source": [
    "db.search_range('students', 'age', 10, 100)"
   ]
  },
  {
   "cell_type": "code",
   "execution_count": 9,
   "id": "d40d17e5",
   "metadata": {},
   "outputs": [
    {
     "data": {
      "text/plain": [
       "[]"
      ]
     },
     "execution_count": 9,
     "metadata": {},
     "output_type": "execute_result"
    }
   ],
   "source": [
    "db.search_range('students', 'score', 800, 801)"
   ]
  },
  {
   "cell_type": "code",
   "execution_count": 10,
   "id": "ca5eea20",
   "metadata": {},
   "outputs": [
    {
     "data": {
      "text/plain": [
       "[{'name': 'zhang',\n",
       "  'age': 17,\n",
       "  'score': 700,\n",
       "  '_id': ObjectId('622dd9351713bfe9bd2d7756')}]"
      ]
     },
     "execution_count": 10,
     "metadata": {},
     "output_type": "execute_result"
    }
   ],
   "source": [
    "db.search_equal('students', 'score', 700)"
   ]
  },
  {
   "cell_type": "code",
   "execution_count": 12,
   "id": "fd9bfe0a-7889-4b5d-b6e5-82e2c5d12218",
   "metadata": {},
   "outputs": [],
   "source": [
    "db.delete_one('students', doc_to_del)"
   ]
  },
  {
   "cell_type": "code",
   "execution_count": 13,
   "id": "cfc8251a-6168-4b35-a3e0-76bacba96c72",
   "metadata": {},
   "outputs": [
    {
     "data": {
      "text/plain": [
       "[{'name': 'zhang',\n",
       "  'age': 17,\n",
       "  'score': 700,\n",
       "  '_id': ObjectId('622dd9351713bfe9bd2d7756')}]"
      ]
     },
     "execution_count": 13,
     "metadata": {},
     "output_type": "execute_result"
    }
   ],
   "source": [
    "db.search_range('students', 'age', 10, 100)"
   ]
  }
 ],
 "metadata": {
  "kernelspec": {
   "display_name": "Python 3 (ipykernel)",
   "language": "python",
   "name": "python3"
  },
  "language_info": {
   "codemirror_mode": {
    "name": "ipython",
    "version": 3
   },
   "file_extension": ".py",
   "mimetype": "text/x-python",
   "name": "python",
   "nbconvert_exporter": "python",
   "pygments_lexer": "ipython3",
   "version": "3.9.7"
  }
 },
 "nbformat": 4,
 "nbformat_minor": 5
}
