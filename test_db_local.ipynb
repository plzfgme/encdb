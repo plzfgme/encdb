{
 "cells": [
  {
   "cell_type": "code",
   "execution_count": 1,
   "id": "4b0a91fd-9805-4be4-a012-9fa2b83acde8",
   "metadata": {},
   "outputs": [],
   "source": [
    "from encdb_local import *"
   ]
  },
  {
   "cell_type": "code",
   "execution_count": 2,
   "id": "6fb27c80-5f4e-49fc-9613-309e66fd7d08",
   "metadata": {},
   "outputs": [],
   "source": [
    "db = EncDB_Local('config.yaml')"
   ]
  },
  {
   "cell_type": "code",
   "execution_count": 3,
   "id": "918a9e1b",
   "metadata": {},
   "outputs": [],
   "source": [
    "db.insert_one('students', {'name': 'gyt', 'age': 44, 'score': 612.5})"
   ]
  },
  {
   "cell_type": "code",
   "execution_count": 4,
   "id": "f45170ba",
   "metadata": {},
   "outputs": [],
   "source": [
    "db.insert_one('students', {'name': 'zhang', 'age': 17, 'score': 745.7})"
   ]
  },
  {
   "cell_type": "code",
   "execution_count": 5,
   "id": "6fb05573-d923-4f12-ba09-17694ff8fdda",
   "metadata": {},
   "outputs": [
    {
     "data": {
      "text/plain": [
       "[{'age': 17, '_id': ObjectId('6231a8d496ad6f6f2d0e8f93')},\n",
       " {'age': 44, '_id': ObjectId('6231a8d396ad6f6f2d0e8f92')}]"
      ]
     },
     "execution_count": 5,
     "metadata": {},
     "output_type": "execute_result"
    }
   ],
   "source": [
    "db.find('students', {'$or': [{'age': 44}, {'score': {'$gte': 666.6, '$lte': 777.7}}]}, projection={'age': 1})"
   ]
  },
  {
   "cell_type": "code",
   "execution_count": 6,
   "id": "fe5b03bb",
   "metadata": {},
   "outputs": [
    {
     "data": {
      "text/plain": [
       "[{'name': 'zhang',\n",
       "  'age': 17,\n",
       "  'score': 745.7,\n",
       "  '_id': ObjectId('6231a8d496ad6f6f2d0e8f93')}]"
      ]
     },
     "execution_count": 6,
     "metadata": {},
     "output_type": "execute_result"
    }
   ],
   "source": [
    "db.find('students', {'name': 'zhang'})"
   ]
  }
 ],
 "metadata": {
  "kernelspec": {
   "display_name": "Python 3 (ipykernel)",
   "language": "python",
   "name": "python3"
  },
  "language_info": {
   "codemirror_mode": {
    "name": "ipython",
    "version": 3
   },
   "file_extension": ".py",
   "mimetype": "text/x-python",
   "name": "python",
   "nbconvert_exporter": "python",
   "pygments_lexer": "ipython3",
   "version": "3.9.7"
  }
 },
 "nbformat": 4,
 "nbformat_minor": 5
}
