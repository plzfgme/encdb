{
 "cells": [
  {
   "cell_type": "code",
   "execution_count": 1,
   "id": "4b0a91fd-9805-4be4-a012-9fa2b83acde8",
   "metadata": {},
   "outputs": [],
   "source": [
    "from encdb_local import *"
   ]
  },
  {
   "cell_type": "code",
   "execution_count": 2,
   "id": "6fb27c80-5f4e-49fc-9613-309e66fd7d08",
   "metadata": {},
   "outputs": [],
   "source": [
    "db = EncDB_Local('config.yaml')"
   ]
  },
  {
   "cell_type": "code",
   "execution_count": 3,
   "id": "918a9e1b",
   "metadata": {},
   "outputs": [
    {
     "name": "stdout",
     "output_type": "stream",
     "text": [
      "{'maanidaehnfjeekddlomhocejmnbkedm': {'rnd': b'\\xf1\\xc1\\x180C\\x9c\\xf3]\\x19\\xaf\\xf5\\xfa*#\\x91l\\x83X\\xbcb\\x8b\\x1e$\\xeb#F\\x8d\\tU\\xed\\xfc\\x1a', 'iv': b'\\x91:\\xa2\\xe4\\xdce\\xc5h(\\xc9ve7\\xa8\\xf3\\xba'}, 'ebdmboahaidkgmkjfoaoeeihccbdpkfh': {'rnd': b'\\xda\\x95\\xb3_@\\x0b\\xf2p\\x9a\\x0c|Q\\x9d\\x161\\x1b', 'iv': b'\\x8c\\xbd\\x851\\xed\\xde\\xaf\\x8cw:\\xab\\x8bo\\xa3 \\t'}, 'lggnjccinkolenlkjbnojbgcaepidapm': {'rnd': b'\\xe9\\xedJ\\x0b\\xb7\\xd1\\xac\\ne\\xf0\\xde\\xf7t\\x12Q\\xe8', 'iv': b'\\xdc\\xf8Y\\x88\\x10\\xed\\x06\\x0c\\xe3\\xc1\\xbf\\t\\xc0\\xbd\\x8di'}, '_id': ObjectId('622dce66ad14d86389b1bc56')}\n"
     ]
    }
   ],
   "source": [
    "db.insert_one('students', {'name': 'gyt', 'age': 44, 'score': 612})"
   ]
  },
  {
   "cell_type": "code",
   "execution_count": 4,
   "id": "f45170ba",
   "metadata": {},
   "outputs": [
    {
     "name": "stdout",
     "output_type": "stream",
     "text": [
      "{'maanidaehnfjeekddlomhocejmnbkedm': {'rnd': b'.U\\x9aR\\xa6/\\x99\\x8e\\x87p4q\\xf9\\xa8(\\x8f\\x80OQDh\\xfey\\x0c\\xe3\\xb1\\xa6\\xb6e\\x8aR\\xbd', 'iv': b'\\x89&_\\xea\\xca \\x8b\\xf3W\\\\\\x8e\\xef<D0\\x8d'}, 'ebdmboahaidkgmkjfoaoeeihccbdpkfh': {'rnd': b'\\xc9x\\xc7\\x89s\\xa9-y\\x12\\x9f\\xd7S\\xf9]\\xd2\\xb1', 'iv': b'\\xc7\\x9d\\xa7\\xc5\"\\xa5\\x06\\x8c]cO\"\\xfc\\x0fs\\xdb'}, 'lggnjccinkolenlkjbnojbgcaepidapm': {'rnd': b'\\xf2\\xf9\\xd5\\xc5(x%q&4\\xae\\xc0\\xb5\\xd6\\x13\\x99', 'iv': b'\\xa4\\xact\\x8e)\\x04=\\x0b+y\\x8d\\x12\\x04\\xc7a+'}, '_id': ObjectId('622dce67ad14d86389b1bc57')}\n"
     ]
    }
   ],
   "source": [
    "db.insert_one('students', {'name': 'zhang', 'age': 17, 'score': 700})"
   ]
  },
  {
   "cell_type": "code",
   "execution_count": 5,
   "id": "1b93c1ea",
   "metadata": {},
   "outputs": [
    {
     "data": {
      "text/plain": [
       "[{'name': 'gyt', 'age': 44, 'score': 612}]"
      ]
     },
     "execution_count": 5,
     "metadata": {},
     "output_type": "execute_result"
    }
   ],
   "source": [
    "db.search_range('students', 'age', 30, 64)"
   ]
  },
  {
   "cell_type": "code",
   "execution_count": 6,
   "id": "5db53245",
   "metadata": {},
   "outputs": [
    {
     "data": {
      "text/plain": [
       "[{'name': 'zhang', 'age': 17, 'score': 700}]"
      ]
     },
     "execution_count": 6,
     "metadata": {},
     "output_type": "execute_result"
    }
   ],
   "source": [
    "db.search_range('students', 'score', 650, 701)"
   ]
  },
  {
   "cell_type": "code",
   "execution_count": 7,
   "id": "fe5b03bb",
   "metadata": {},
   "outputs": [
    {
     "data": {
      "text/plain": [
       "[(ObjectId('622dce66ad14d86389b1bc56'),\n",
       "  {'name': 'gyt', 'age': 44, 'score': 612})]"
      ]
     },
     "execution_count": 7,
     "metadata": {},
     "output_type": "execute_result"
    }
   ],
   "source": [
    "db.search_equal('students', 'name', 'gyt')"
   ]
  },
  {
   "cell_type": "code",
   "execution_count": 8,
   "id": "dc59ceca",
   "metadata": {},
   "outputs": [
    {
     "data": {
      "text/plain": [
       "[{'name': 'gyt', 'age': 44, 'score': 612},\n",
       " {'name': 'zhang', 'age': 17, 'score': 700}]"
      ]
     },
     "execution_count": 8,
     "metadata": {},
     "output_type": "execute_result"
    }
   ],
   "source": [
    "db.search_range('students', 'age', 10, 100)"
   ]
  },
  {
   "cell_type": "code",
   "execution_count": 9,
   "id": "d40d17e5",
   "metadata": {},
   "outputs": [
    {
     "data": {
      "text/plain": [
       "[]"
      ]
     },
     "execution_count": 9,
     "metadata": {},
     "output_type": "execute_result"
    }
   ],
   "source": [
    "db.search_range('students', 'score', 800, 801)"
   ]
  },
  {
   "cell_type": "code",
   "execution_count": 10,
   "id": "ca5eea20",
   "metadata": {},
   "outputs": [
    {
     "data": {
      "text/plain": [
       "[(ObjectId('622dce67ad14d86389b1bc57'),\n",
       "  {'name': 'zhang', 'age': 17, 'score': 700})]"
      ]
     },
     "execution_count": 10,
     "metadata": {},
     "output_type": "execute_result"
    }
   ],
   "source": [
    "db.search_equal('students', 'score', 700)"
   ]
  }
 ],
 "metadata": {
  "kernelspec": {
   "display_name": "Python 3 (ipykernel)",
   "language": "python",
   "name": "python3"
  },
  "language_info": {
   "codemirror_mode": {
    "name": "ipython",
    "version": 3
   },
   "file_extension": ".py",
   "mimetype": "text/x-python",
   "name": "python",
   "nbconvert_exporter": "python",
   "pygments_lexer": "ipython3",
   "version": "3.9.7"
  }
 },
 "nbformat": 4,
 "nbformat_minor": 5
}
