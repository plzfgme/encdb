{
 "cells": [
  {
   "cell_type": "code",
   "execution_count": 2,
   "id": "5a29cb19-5f95-4d9b-a895-03e1c6416945",
   "metadata": {},
   "outputs": [],
   "source": [
    "from encdb_local import *"
   ]
  },
  {
   "cell_type": "code",
   "execution_count": 3,
   "id": "92f250b4-7d2e-4ca0-9c5b-307758554f80",
   "metadata": {},
   "outputs": [],
   "source": [
    "db = EncDB_Local('config.yaml')"
   ]
  },
  {
   "cell_type": "code",
   "execution_count": 4,
   "id": "07070e94-d8b5-49e9-b00b-08b1c0d6e255",
   "metadata": {},
   "outputs": [
    {
     "name": "stdout",
     "output_type": "stream",
     "text": [
      "{'fibjdlfokffjoalbbhckfafkdkffggco': {'rnd': b'bf\\x86a\\xd0\\xaa\\\\w\\x90\\xe5\\xc5\\x85\\x01\\xfa\\x9bI\\xa7\\tpO6\\xe01\\x85\\xf2]M\\xba+B\\n\\xa9', 'iv': b'\\xeeljU\\xb8\\x18!\\xb6&Kw\\xaa\\xae\\xd3RT'}, 'aepbajehdenoplpccmgjgadcgmmllemb': {'rnd': b'\\xadR\\x9d\\xfe\\x03(\\xe3\\x03\\x05oa\\xb7k\\x9d4]', 'iv': b'\\x96\\x06\\xbe\\x8ew\\xa7\\xb5y\\xa5u\\xa6\\t\\xef\\x96V\\x89'}, 'dicfhdbfoopgkmjcbjpkkoppjeiocdcg': {'rnd': b'U\\x97\\xd9\\xa5\\x0e\\xba\\xcd\\xa7\\xdb\\xc26G\\xf3$\\x0f\\xc8', 'iv': b'\\xfbX\\xbd\\x1dq\\x96JRq=\\xc7VV\\xe0\\xe2\\xca'}, '_id': ObjectId('622db4f01f8fd8a0a9d0a91e')}\n"
     ]
    }
   ],
   "source": [
    "db.insert_one('students', {'name': 'gyt', 'age': 44, 'score': 612})"
   ]
  },
  {
   "cell_type": "code",
   "execution_count": 5,
   "id": "ba568597-7975-494b-8ab2-56258453e288",
   "metadata": {},
   "outputs": [
    {
     "name": "stdout",
     "output_type": "stream",
     "text": [
      "{'fibjdlfokffjoalbbhckfafkdkffggco': {'rnd': b'\\x05\\xd6eXry\\x9b\\xcbDD5\\xde\\xd4.\\x11=l\\x17\\xc9\\x1e\\x1d\\xef\\xa8\\x7f\\xa4\\x1d\\x9f\\xee(k\\xf3F', 'iv': b'\\xd0\\xf8\\x1f\\xcb\\t\\x05\\xb6\\x97\\x17\\x96\\xf4\\xe6\\x08\\xda!\\xfb'}, 'aepbajehdenoplpccmgjgadcgmmllemb': {'rnd': b']\\xc6\\x80\\x7f\\x04\\xfb\\x9ez\\xb69\\xbdy\\xac|\\xed\\x1b', 'iv': b'u\\x81\\xc29~\\x98P\\x8e\\xf2\\x93}\\xc4\\xe1d\\xd7T'}, 'dicfhdbfoopgkmjcbjpkkoppjeiocdcg': {'rnd': b'\\xa6}F\\xff;t \\xc2\\xf4\\xbf\\xb6K\\x01px\\x9f', 'iv': b'3\\x87C\\t\\x87\\x0e\\x04B\\xb6i\\x96\\xd1\\xbd-\\xc4\\xc9'}, '_id': ObjectId('622db4f11f8fd8a0a9d0a91f')}\n"
     ]
    }
   ],
   "source": [
    "db.insert_one('students', {'name': 'zhang', 'age': 17, 'score': 700})"
   ]
  },
  {
   "cell_type": "code",
   "execution_count": 6,
   "id": "474b4c56-e5f8-4b1e-b88f-151627f47ee9",
   "metadata": {},
   "outputs": [
    {
     "data": {
      "text/plain": [
       "[{'name': 'zhang', 'age': 17, 'score': 700}]"
      ]
     },
     "execution_count": 6,
     "metadata": {},
     "output_type": "execute_result"
    }
   ],
   "source": [
    "db.search_range('students', 'score', 650, 701)"
   ]
  },
  {
   "cell_type": "code",
   "execution_count": 6,
   "id": "b1e631dc-0138-4c0c-a2ec-74e4893680e1",
   "metadata": {},
   "outputs": [
    {
     "data": {
      "text/plain": [
       "4096"
      ]
     },
     "execution_count": 6,
     "metadata": {},
     "output_type": "execute_result"
    }
   ],
   "source": [
    "(99-97) << 4 + (104 - 97)"
   ]
  },
  {
   "cell_type": "code",
   "execution_count": null,
   "id": "3183ad31-1a8a-4476-b320-ef7eef76c800",
   "metadata": {},
   "outputs": [],
   "source": []
  }
 ],
 "metadata": {
  "kernelspec": {
   "display_name": "Python 3 (ipykernel)",
   "language": "python",
   "name": "python3"
  },
  "language_info": {
   "codemirror_mode": {
    "name": "ipython",
    "version": 3
   },
   "file_extension": ".py",
   "mimetype": "text/x-python",
   "name": "python",
   "nbconvert_exporter": "python",
   "pygments_lexer": "ipython3",
   "version": "3.9.7"
  }
 },
 "nbformat": 4,
 "nbformat_minor": 5
}
