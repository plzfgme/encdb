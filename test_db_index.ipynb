{
 "cells": [
  {
   "cell_type": "code",
   "execution_count": 1,
   "id": "6271bec9-c907-4399-bde1-f25afcab3c9c",
   "metadata": {},
   "outputs": [],
   "source": [
    "from db_index import *"
   ]
  },
  {
   "cell_type": "code",
   "execution_count": 2,
   "id": "90cba917-4cc3-4a06-8c1b-efaacf27b46e",
   "metadata": {},
   "outputs": [],
   "source": [
    "client = DBIndexClient('test_client1.db', 'test_client2.db')"
   ]
  },
  {
   "cell_type": "code",
   "execution_count": 3,
   "id": "e1ff9e31-2a4b-4bb6-a8c5-8d104a17961c",
   "metadata": {},
   "outputs": [],
   "source": [
    "server = DBIndexServer('test_server.db', client.get_key_for_server())"
   ]
  },
  {
   "cell_type": "code",
   "execution_count": 4,
   "id": "9038ee78-7491-49ad-9297-ee13ec411396",
   "metadata": {},
   "outputs": [],
   "source": [
    "tokens = client.gen_update_tokens('add', 'goods', b'x2d', 'price', 40.2)"
   ]
  },
  {
   "cell_type": "code",
   "execution_count": 5,
   "id": "c9bc1043-2606-43fa-8cc2-90014267d06c",
   "metadata": {},
   "outputs": [],
   "source": [
    "server.update(tokens)"
   ]
  },
  {
   "cell_type": "code",
   "execution_count": 6,
   "id": "7e5f25ba-e22a-45dd-982c-dc1a1967d460",
   "metadata": {},
   "outputs": [],
   "source": [
    "tokens = client.gen_update_tokens('add', 'goods', b'xxcv', 'price', 55.7)"
   ]
  },
  {
   "cell_type": "code",
   "execution_count": 7,
   "id": "ad41ebcd-42dc-42e5-947d-2980ea2592db",
   "metadata": {},
   "outputs": [],
   "source": [
    "server.update(tokens)"
   ]
  },
  {
   "cell_type": "code",
   "execution_count": 8,
   "id": "35a09621-a5ea-46e7-ab7b-444038afdc03",
   "metadata": {},
   "outputs": [],
   "source": [
    "tokens = client.gen_search_range_tokens('goods', 'price', 33.9, 41.2)"
   ]
  },
  {
   "cell_type": "code",
   "execution_count": 9,
   "id": "b6bbe860-bf2d-46fd-9f3b-8540779ba398",
   "metadata": {},
   "outputs": [
    {
     "data": {
      "text/plain": [
       "{b'x2d'}"
      ]
     },
     "execution_count": 9,
     "metadata": {},
     "output_type": "execute_result"
    }
   ],
   "source": [
    "server.search_tokens_union(tokens)"
   ]
  },
  {
   "cell_type": "code",
   "execution_count": 10,
   "id": "65cbff3f-04da-46d9-b24b-f59c7e0781a3",
   "metadata": {},
   "outputs": [],
   "source": [
    "tokens = client.gen_search_range_tokens('goods', 'price', 46, 60)"
   ]
  },
  {
   "cell_type": "code",
   "execution_count": 11,
   "id": "5427f2b6-a58b-472f-9089-52508e99a9a5",
   "metadata": {},
   "outputs": [
    {
     "data": {
      "text/plain": [
       "{b'xxcv'}"
      ]
     },
     "execution_count": 11,
     "metadata": {},
     "output_type": "execute_result"
    }
   ],
   "source": [
    "server.search_tokens_union(tokens)"
   ]
  },
  {
   "cell_type": "code",
   "execution_count": 12,
   "id": "453461c9-506d-4acf-ad79-a5449c413bea",
   "metadata": {},
   "outputs": [],
   "source": [
    "tokens = client.gen_search_range_tokens('goods', 'price', 10.99, 66.66)"
   ]
  },
  {
   "cell_type": "code",
   "execution_count": 13,
   "id": "44b9bac2-29e4-49e4-979e-4b64e98f51df",
   "metadata": {},
   "outputs": [
    {
     "data": {
      "text/plain": [
       "{b'x2d', b'xxcv'}"
      ]
     },
     "execution_count": 13,
     "metadata": {},
     "output_type": "execute_result"
    }
   ],
   "source": [
    "server.search_tokens_union(tokens)"
   ]
  }
 ],
 "metadata": {
  "kernelspec": {
   "display_name": "Python 3 (ipykernel)",
   "language": "python",
   "name": "python3"
  },
  "language_info": {
   "codemirror_mode": {
    "name": "ipython",
    "version": 3
   },
   "file_extension": ".py",
   "mimetype": "text/x-python",
   "name": "python",
   "nbconvert_exporter": "python",
   "pygments_lexer": "ipython3",
   "version": "3.9.7"
  }
 },
 "nbformat": 4,
 "nbformat_minor": 5
}
